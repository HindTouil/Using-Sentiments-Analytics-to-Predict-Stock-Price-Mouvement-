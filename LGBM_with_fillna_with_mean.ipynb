{
 "cells": [
  {
   "cell_type": "code",
   "execution_count": null,
   "metadata": {
    "_cell_guid": "b1076dfc-b9ad-4769-8c92-a6c4dae69d19",
    "_uuid": "8f2839f25d086af736a60e9eeb907d3b93b6e0e5",
    "collapsed": true
   },
   "outputs": [],
   "source": [
    "from kaggle.competitions import twosigmanews\n",
    "# You can only call make_env() once, so don't lose it!\n",
    "env = twosigmanews.make_env()\n",
    "print('Done!')"
   ]
  },
  {
   "cell_type": "code",
   "execution_count": null,
   "metadata": {
    "_uuid": "c20fa6deeac9d374c98774abd90bdc76b023ee63",
    "collapsed": true
   },
   "outputs": [],
   "source": [
    "(market_train_df, news_train_df) = env.get_training_data()"
   ]
  },
  {
   "cell_type": "code",
   "execution_count": null,
   "metadata": {
    "_uuid": "fba8c359ca9f08fe0f0ab824c325ed9ab77c9e63",
    "collapsed": true
   },
   "outputs": [],
   "source": [
    " market_train_df = market_train_df.tail(100_000)\n",
    "news_train_df = news_train_df.tail(300_000)"
   ]
  },
  {
   "cell_type": "code",
   "execution_count": null,
   "metadata": {
    "_uuid": "2e23c17204dd95fe372da1260af2ba8bcc200502",
    "collapsed": true
   },
   "outputs": [],
   "source": [
    " market_train_df.shape"
   ]
  },
  {
   "cell_type": "code",
   "execution_count": null,
   "metadata": {
    "_uuid": "b092c146da2a745bf03866d22467b09a83b2730a",
    "collapsed": true
   },
   "outputs": [],
   "source": [
    "import lightgbm as lgb\n",
    "import numpy as np\n",
    "import pandas as pd\n",
    "import matplotlib.pyplot as plt\n",
    "from itertools import chain\n",
    "\n",
    "%matplotlib inline"
   ]
  },
  {
   "cell_type": "code",
   "execution_count": null,
   "metadata": {
    "_uuid": "f8174e0fe351b1c2c667fb463406975e941aba9c",
    "collapsed": true
   },
   "outputs": [],
   "source": [
    "news_cols_agg = {\n",
    "    'urgency': ['min', 'count'],\n",
    "    'takeSequence': ['max'],\n",
    "    'bodySize': ['min', 'max', 'mean', 'std'],\n",
    "    'wordCount': ['min', 'max', 'mean', 'std'],\n",
    "    'sentenceCount': ['min', 'max', 'mean', 'std'],\n",
    "    'companyCount': ['min', 'max', 'mean', 'std'],\n",
    "    'marketCommentary': ['min', 'max', 'mean', 'std'],\n",
    "    'relevance': ['min', 'max', 'mean', 'std'],\n",
    "    'sentimentNegative': ['min', 'max', 'mean', 'std'],\n",
    "    'sentimentNeutral': ['min', 'max', 'mean', 'std'],\n",
    "    'sentimentPositive': ['min', 'max', 'mean', 'std'],\n",
    "    'sentimentWordCount': ['min', 'max', 'mean', 'std'],\n",
    "    'noveltyCount12H': ['min', 'max', 'mean', 'std'],\n",
    "    'noveltyCount24H': ['min', 'max', 'mean', 'std'],\n",
    "    'noveltyCount3D': ['min', 'max', 'mean', 'std'],\n",
    "    'noveltyCount5D': ['min', 'max', 'mean', 'std'],\n",
    "    'noveltyCount7D': ['min', 'max', 'mean', 'std'],\n",
    "    'volumeCounts12H': ['min', 'max', 'mean', 'std'],\n",
    "    'volumeCounts24H': ['min', 'max', 'mean', 'std'],\n",
    "    'volumeCounts3D': ['min', 'max', 'mean', 'std'],\n",
    "    'volumeCounts5D': ['min', 'max', 'mean', 'std'],\n",
    "    'volumeCounts7D': ['min', 'max', 'mean', 'std']\n",
    "}"
   ]
  },
  {
   "cell_type": "code",
   "execution_count": null,
   "metadata": {
    "_uuid": "2c5a87dde9b7931382da32d0b362116fb8fbc94c",
    "collapsed": true
   },
   "outputs": [],
   "source": [
    "def join_market_news(market_train_df, news_train_df):\n",
    "    news_train_df['assetCodes'] = news_train_df['assetCodes'].str.findall(f\"'([\\w\\./]+)'\")\n",
    "    assetCodes_expanded = list(chain(*news_train_df['assetCodes']))\n",
    "    assetCodes_index = news_train_df.index.repeat( news_train_df['assetCodes'].apply(len) )\n",
    "\n",
    "    assert len(assetCodes_index) == len(assetCodes_expanded)\n",
    "    df_assetCodes = pd.DataFrame({'level_0': assetCodes_index, 'assetCode': assetCodes_expanded})\n",
    "    news_cols = ['time', 'assetCodes'] + sorted(news_cols_agg.keys())\n",
    "    news_train_df_expanded = pd.merge(df_assetCodes, news_train_df[news_cols], left_on='level_0', right_index=True, suffixes=(['','_old']))\n",
    "\n",
    "    del news_train_df, df_assetCodes\n",
    "\n",
    "    # Aggregate numerical news features\n",
    "    news_train_df_aggregated = news_train_df_expanded.groupby(['time', 'assetCode']).agg(news_cols_agg)\n",
    "    \n",
    "    # Free memory\n",
    "    del news_train_df_expanded\n",
    "\n",
    "    # Convert to float32 to save memory\n",
    "    news_train_df_aggregated = news_train_df_aggregated.apply(np.float32)\n",
    "\n",
    "    # Flat columns\n",
    "    news_train_df_aggregated.columns = ['_'.join(col).strip() for col in news_train_df_aggregated.columns.values]\n",
    "\n",
    "    # Join with train\n",
    "    market_train_df = market_train_df.join(news_train_df_aggregated, on=['time', 'assetCode'])\n",
    "\n",
    "    # Free memory\n",
    "    del news_train_df_aggregated\n",
    "    \n",
    "    return market_train_df"
   ]
  },
  {
   "cell_type": "code",
   "execution_count": null,
   "metadata": {
    "_uuid": "969511254abbe99bfbb38c4e85422596635cbd30",
    "collapsed": true
   },
   "outputs": [],
   "source": [
    "def get_xy(market_train_df, news_train_df, le=None):\n",
    "    x, le = get_x(market_train_df, news_train_df)\n",
    "    y = market_train_df['returnsOpenNextMktres10'].clip(-1, 1)\n",
    "    return x, y, le\n",
    "\n",
    "\n",
    "def label_encode(series, min_count):\n",
    "    vc = series.value_counts()\n",
    "    le = {c:i for i, c in enumerate(vc.index[vc >= min_count])}\n",
    "    return le\n",
    "\n",
    "\n",
    "def get_x(market_train_df, news_train_df, le=None):\n",
    "    news_train_df['time'] = (news_train_df['time'] - np.timedelta64(22,'h')).dt.ceil('1D')\n",
    "\n",
    "    # Round time of market_train_df to 0h of curret day\n",
    "    market_train_df['time'] = market_train_df['time'].dt.floor('1D')\n",
    "\n",
    "    # Join market and news\n",
    "    x = join_market_news(market_train_df, news_train_df)\n",
    "    \n",
    "    # If not label-encoder... encode assetCode\n",
    "    if le is None:\n",
    "        le_assetCode = label_encode(x['assetCode'], min_count=10)\n",
    "        le_assetName = label_encode(x['assetName'], min_count=5)\n",
    "    else:\n",
    "        # 'unpack' label encoders\n",
    "        le_assetCode, le_assetName = le\n",
    "        \n",
    "    x['assetCode'] = x['assetCode'].map(le_assetCode).fillna(-1).astype(int)\n",
    "    x['assetName'] = x['assetName'].map(le_assetName).fillna(-1).astype(int)\n",
    "    \n",
    "    try:\n",
    "        x.drop(columns=['returnsOpenNextMktres10'], inplace=True)\n",
    "    except:\n",
    "        pass\n",
    "    try:\n",
    "        x.drop(columns=['universe'], inplace=True)\n",
    "    except:\n",
    "        pass\n",
    "    x['dayofweek'], x['month'] = x.time.dt.dayofweek, x.time.dt.month\n",
    "    x.drop(columns='time', inplace=True)\n",
    "#    x.fillna(-1000,inplace=True)\n",
    "\n",
    "    # Fix some mixed-type columns\n",
    "    for bogus_col in ['marketCommentary_min', 'marketCommentary_max']:\n",
    "        x[bogus_col] = x[bogus_col].astype(float)\n",
    "    \n",
    "    return x, (le_assetCode, le_assetName)"
   ]
  },
  {
   "cell_type": "code",
   "execution_count": null,
   "metadata": {
    "_uuid": "31cd42303a383d2a6537c6f7b99ec2d298f26ff7",
    "collapsed": true
   },
   "outputs": [],
   "source": [
    "%%time\n",
    "\n",
    "X, y, le = get_xy(market_train_df, news_train_df)"
   ]
  },
  {
   "cell_type": "code",
   "execution_count": null,
   "metadata": {
    "_uuid": "1cc05f54b7449b9e6f4f8b9a102adc25d4c2e775",
    "collapsed": true
   },
   "outputs": [],
   "source": [
    "X=X.fillna(X.mean())"
   ]
  },
  {
   "cell_type": "code",
   "execution_count": null,
   "metadata": {
    "_uuid": "ffb18978bbf45fc4730bace7a65bdb7b5345eeef",
    "collapsed": true
   },
   "outputs": [],
   "source": [
    "X.isnull().any()"
   ]
  },
  {
   "cell_type": "code",
   "execution_count": null,
   "metadata": {
    "_uuid": "068cd43c59e905593126201737f8a82d1024cdfb",
    "collapsed": true
   },
   "outputs": [],
   "source": [
    "universe = market_train_df['universe']\n",
    "time = market_train_df['time']\n",
    "del market_train_df, news_train_df"
   ]
  },
  {
   "cell_type": "code",
   "execution_count": null,
   "metadata": {
    "_uuid": "5142e49fb4156dddd15740beb4d38ecd23398247",
    "collapsed": true
   },
   "outputs": [],
   "source": [
    "X_ = X"
   ]
  },
  {
   "cell_type": "code",
   "execution_count": null,
   "metadata": {
    "_uuid": "ffccbc2cf61684731578abd3e1108bff691c23a0",
    "collapsed": true
   },
   "outputs": [],
   "source": [
    "X.tail()"
   ]
  },
  {
   "cell_type": "code",
   "execution_count": null,
   "metadata": {
    "_uuid": "676b28bbf482d680e642c6c7450bf5c918399467",
    "collapsed": true
   },
   "outputs": [],
   "source": [
    "n_train = int(X.shape[0] * 0.8)\n",
    "\n",
    "X_train, y_train = X.iloc[:n_train], y.iloc[:n_train]\n",
    "X_valid, y_valid = X.iloc[n_train:], y.iloc[n_train:]"
   ]
  },
  {
   "cell_type": "code",
   "execution_count": null,
   "metadata": {
    "_uuid": "8a172258a46c7db96e85964d6d56c24f0ec56f0c",
    "collapsed": true
   },
   "outputs": [],
   "source": [
    "# For valid data, keep only those with universe > 0. This will help calculate the metric\n",
    "u_valid = (universe.iloc[n_train:] > 0)\n",
    "t_valid = time.iloc[n_train:]\n",
    "\n",
    "X_valid = X_valid[u_valid]\n",
    "y_valid = y_valid[u_valid]\n",
    "t_valid = t_valid[u_valid]\n",
    "del u_valid"
   ]
  },
  {
   "cell_type": "code",
   "execution_count": null,
   "metadata": {
    "_uuid": "31cd42303a383d2a6537c6f7b99ec2d298f26ff7",
    "collapsed": true
   },
   "outputs": [],
   "source": [
    "# Creat lgb datasets\n",
    "train_cols = X.columns.tolist()\n",
    "\n",
    "\n",
    "dtrain = lgb.Dataset(X_train.values, y_train,  free_raw_data=False)\n",
    "dvalid = lgb.Dataset(X_valid.values, y_valid,free_raw_data=False)"
   ]
  },
  {
   "cell_type": "code",
   "execution_count": null,
   "metadata": {
    "_uuid": "30794623829aa27afe5725c53bcc1941a7a64dc8",
    "collapsed": true
   },
   "outputs": [],
   "source": [
    "dvalid.params = {\n",
    "    'extra_time': t_valid.factorize()[0]\n",
    "}"
   ]
  },
  {
   "cell_type": "code",
   "execution_count": null,
   "metadata": {
    "_uuid": "c152c25d8447512d1ee1befa0c0757a8b7cc54f4",
    "collapsed": true,
    "scrolled": false
   },
   "outputs": [],
   "source": [
    "lgb_params = dict(\n",
    "    objective = 'regression_l1',\n",
    "    learning_rate = 0.1,\n",
    "    num_leaves = 127,\n",
    "    max_depth = -1,\n",
    "    bagging_fraction = 0.75,\n",
    "    bagging_freq = 2,\n",
    "    feature_fraction = 0.5,\n",
    "    lambda_l1 = 0.0,\n",
    "    lambda_l2 = 1.0,\n",
    "    metric = 'None', \n",
    "    seed = 42 \n",
    ")\n",
    "\n",
    "def sigma_score(preds, valid_data):\n",
    "    df_time = valid_data.params['extra_time']\n",
    "    labels = valid_data.get_label()\n",
    "\n",
    "    x_t = preds * labels\n",
    "    x_t_sum = x_t.groupby(df_time).sum()\n",
    "    score = x_t_sum.mean() / x_t_sum.std()\n",
    "\n",
    "    return 'sigma_score', score, True\n",
    "\n",
    "evals_result = {}\n",
    "m = lgb.train(lgb_params, dtrain, num_boost_round=1000, valid_sets=(dvalid,), valid_names=('valid',), verbose_eval=25,\n",
    "              early_stopping_rounds=100, feval=sigma_score, evals_result=evals_result)\n",
    "\n",
    "\n",
    "df_result = pd.DataFrame(evals_result['valid'])"
   ]
  },
  {
   "cell_type": "code",
   "execution_count": null,
   "metadata": {
    "_uuid": "e969dd0e1d6e590fb82788673a0fc82fb096ae2a",
    "collapsed": true
   },
   "outputs": [],
   "source": [
    "num_boost_round, valid_score = df_result['sigma_score'].idxmax()+1, df_result['sigma_score'].max()\n",
    "print(lgb_params)\n",
    "print(f'Best score was {valid_score:.5f} on round {num_boost_round}')"
   ]
  },
  {
   "cell_type": "markdown",
   "metadata": {
    "_uuid": "79f77f74583568d57c5caec118ffa8e00687b1e3"
   },
   "source": [
    "# Train full model"
   ]
  },
  {
   "cell_type": "code",
   "execution_count": null,
   "metadata": {
    "_uuid": "1a4cf693020f85edc4d3a762656e09276b807aef",
    "collapsed": true
   },
   "outputs": [],
   "source": [
    "dtrain_full = lgb.Dataset(X, y, feature_name=train_cols, categorical_feature=categorical_cols)\n",
    "\n",
    "model = lgb.train(lgb_params, dtrain, num_boost_round=num_boost_round)"
   ]
  },
  {
   "cell_type": "code",
   "execution_count": null,
   "metadata": {
    "_uuid": "3f8925ddb4c42201fdba38efac258ca38773849d",
    "collapsed": true
   },
   "outputs": [],
   "source": [
    "def make_predictions(predictions_template_df, market_obs_df, news_obs_df, le):\n",
    "    x, _ = get_x(market_obs_df, news_obs_df, le)\n",
    "    predictions_template_df.confidenceValue = np.clip(model.predict(x), -1, 1)"
   ]
  },
  {
   "cell_type": "code",
   "execution_count": null,
   "metadata": {
    "_uuid": "724c38149860c8e9058474ac9045c2301e8a20da",
    "collapsed": true
   },
   "outputs": [],
   "source": [
    "days = env.get_prediction_days()\n",
    "\n",
    "for (market_obs_df, news_obs_df, predictions_template_df) in days:\n",
    "    make_predictions(predictions_template_df, market_obs_df, news_obs_df, le)\n",
    "    print(predictions_template_df)\n",
    "    env.predict(predictions_template_df)\n",
    "print('Done!')"
   ]
  },
  {
   "cell_type": "code",
   "execution_count": null,
   "metadata": {
    "_uuid": "2c8ed34ffb2c47c6e124530ec798c0b4eb01ddd5",
    "collapsed": true
   },
   "outputs": [],
   "source": [
    "env.write_submission_file()"
   ]
  },
  {
   "cell_type": "code",
   "execution_count": null,
   "metadata": {
    "_uuid": "5d12c819d1d014a1a82566ee2392227a6a8563e4",
    "collapsed": true
   },
   "outputs": [],
   "source": []
  }
 ],
 "metadata": {
  "kernelspec": {
   "display_name": "Python 3",
   "language": "python",
   "name": "python3"
  },
  "language_info": {
   "codemirror_mode": {
    "name": "ipython",
    "version": 3
   },
   "file_extension": ".py",
   "mimetype": "text/x-python",
   "name": "python",
   "nbconvert_exporter": "python",
   "pygments_lexer": "ipython3",
   "version": "3.6.3"
  }
 },
 "nbformat": 4,
 "nbformat_minor": 1
}
